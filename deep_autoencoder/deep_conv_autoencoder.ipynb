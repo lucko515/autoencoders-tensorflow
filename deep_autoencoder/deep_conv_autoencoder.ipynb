{
 "cells": [
  {
   "cell_type": "markdown",
   "metadata": {},
   "source": [
    "The dataset used in this notebook is MNIST dataset. You can download it by using built in TF functions."
   ]
  },
  {
   "cell_type": "code",
   "execution_count": 1,
   "metadata": {
    "collapsed": false
   },
   "outputs": [],
   "source": [
    "import tensorflow as tf\n",
    "from autoencoders_helper_functions import *\n",
    "from tensorflow.examples.tutorials.mnist import input_data\n",
    "import matplotlib.pyplot as plt\n",
    "%matplotlib inline"
   ]
  },
  {
   "cell_type": "code",
   "execution_count": 2,
   "metadata": {
    "collapsed": false
   },
   "outputs": [
    {
     "name": "stdout",
     "output_type": "stream",
     "text": [
      "Extracting MNIST_data\\train-images-idx3-ubyte.gz\n",
      "Extracting MNIST_data\\train-labels-idx1-ubyte.gz\n",
      "Extracting MNIST_data\\t10k-images-idx3-ubyte.gz\n",
      "Extracting MNIST_data\\t10k-labels-idx1-ubyte.gz\n"
     ]
    }
   ],
   "source": [
    "mnist_data = input_data.read_data_sets(\"MNIST_data\", one_hot=True)"
   ]
  },
  {
   "cell_type": "markdown",
   "metadata": {},
   "source": [
    "![](deep_af_autoencoder.png)\n",
    "\n",
    "This image is not 100% good representation of the Autoencoder that we are making in this notebook. The good image can be found in Udacity Deep learning repository. \n",
    "\n",
    "The idea behind deep autoencoder is to have many layers in the Encoder part as well as in the Decoder part of the network. You can create Deep Autoencoder with fully connected layers as well as Conv layers (as we did in this notebook).\n",
    "\n",
    "So the structure of the autoencoder is 4 conv layers in the Encoder part and than we have to go from 4x4x8 to 28x28x1 (original size image). In the Decoder part we could use transposed conv layer BUT that could make random noise in the image which is bad. The good practice is to use upsampling layers instead. "
   ]
  },
  {
   "cell_type": "markdown",
   "metadata": {},
   "source": [
    "### Step 1. Placeholders"
   ]
  },
  {
   "cell_type": "code",
   "execution_count": 3,
   "metadata": {
    "collapsed": true
   },
   "outputs": [],
   "source": [
    "inputs = tf.placeholder(tf.float32, [None, 28, 28, 1])\n",
    "targets = tf.placeholder(tf.float32, [None, 28, 28, 1])"
   ]
  },
  {
   "cell_type": "markdown",
   "metadata": {},
   "source": [
    "### Step 2. Define the architecture of the Autoencoder"
   ]
  },
  {
   "cell_type": "code",
   "execution_count": 4,
   "metadata": {
    "collapsed": false
   },
   "outputs": [],
   "source": [
    "encoder = convd2_custom(inputs, 3, 1, 16, max_pool=True)\n",
    "encoder = convd2_custom(encoder, 3, 16, 8, max_pool=True)\n",
    "encoder = convd2_custom(encoder, 3, 8, 8, max_pool=True)\n",
    "encoder = convd2_custom(encoder, 3, 8, 8, max_pool=True)\n",
    "\n",
    "decoder = tf.image.resize_nearest_neighbor(encoder, (7, 7))\n",
    "decoder = convd2_custom(decoder, 3, 8, 8, max_pool=False)\n",
    "decoder = tf.image.resize_nearest_neighbor(decoder, (14, 14))\n",
    "decoder = convd2_custom(decoder, 3, 8, 8, max_pool=False)\n",
    "decoder = tf.image.resize_nearest_neighbor(decoder, (28, 28))\n",
    "decoder = convd2_custom(decoder, 3, 8, 16, max_pool=False)\n",
    "\n",
    "logits = convd2_custom(decoder, 3, 16, 1, max_pool=False, activation=None)\n",
    "decoded = tf.nn.sigmoid(logits)"
   ]
  },
  {
   "cell_type": "markdown",
   "metadata": {},
   "source": [
    "### Step 3. Cost and Opt"
   ]
  },
  {
   "cell_type": "code",
   "execution_count": 5,
   "metadata": {
    "collapsed": false
   },
   "outputs": [],
   "source": [
    "cost = tf.reduce_mean(tf.nn.sigmoid_cross_entropy_with_logits(logits=logits, labels=targets))\n",
    "optimizer = tf.train.AdamOptimizer(0.001).minimize(cost)"
   ]
  },
  {
   "cell_type": "markdown",
   "metadata": {},
   "source": [
    "## Training time"
   ]
  },
  {
   "cell_type": "code",
   "execution_count": 6,
   "metadata": {
    "collapsed": true
   },
   "outputs": [],
   "source": [
    "session = tf.Session()"
   ]
  },
  {
   "cell_type": "code",
   "execution_count": 7,
   "metadata": {
    "collapsed": true
   },
   "outputs": [],
   "source": [
    "session.run(tf.global_variables_initializer())"
   ]
  },
  {
   "cell_type": "code",
   "execution_count": 8,
   "metadata": {
    "collapsed": false
   },
   "outputs": [
    {
     "name": "stdout",
     "output_type": "stream",
     "text": [
      "Epoch: 0/200... Training loss: 0.3889\n",
      "Epoch: 20/200... Training loss: 0.1359\n",
      "Epoch: 40/200... Training loss: 0.1254\n",
      "Epoch: 60/200... Training loss: 0.1210\n",
      "Epoch: 80/200... Training loss: 0.1181\n",
      "Epoch: 100/200... Training loss: 0.1157\n",
      "Epoch: 120/200... Training loss: 0.1143\n",
      "Epoch: 140/200... Training loss: 0.1129\n",
      "Epoch: 160/200... Training loss: 0.1118\n",
      "Epoch: 180/200... Training loss: 0.1112\n"
     ]
    }
   ],
   "source": [
    "epochs = 200\n",
    "batch_size = 400\n",
    "for e in range(epochs):\n",
    "    cost_epo = []\n",
    "    for ii in range(mnist_data.train.num_examples//batch_size):\n",
    "        batch = mnist_data.train.next_batch(batch_size)\n",
    "        feed = {inputs: batch[0].reshape((-1, 28, 28, 1)), targets:batch[0].reshape((-1, 28, 28, 1))}\n",
    "        batch_cost, _ = session.run([cost, optimizer], feed_dict=feed)\n",
    "        cost_epo.append(batch_cost)\n",
    "    if e % 20 == 0:\n",
    "        print(\"Epoch: {}/{}...\".format(e, epochs), \"Training loss: {:.4f}\".format(np.mean(cost_epo)))"
   ]
  },
  {
   "cell_type": "code",
   "execution_count": 9,
   "metadata": {
    "collapsed": false
   },
   "outputs": [
    {
     "data": {
      "image/png": "[encoded data removed]",
      "text/plain": [
       "<matplotlib.figure.Figure at 0x1eb543c7588>"
      ]
     },
     "metadata": {},
     "output_type": "display_data"
    }
   ],
   "source": [
    "fig, axes = plt.subplots(nrows=2, ncols=10, sharex=True, sharey=True, figsize=(20,4))\n",
    "in_imgs = mnist_data.test.images[:10]\n",
    "reconstructed, compressed = session.run([decoded, encoder], feed_dict={inputs: in_imgs.reshape((-1, 28, 28, 1))})\n",
    "\n",
    "for images, row in zip([in_imgs, reconstructed], axes):\n",
    "    for img, ax in zip(images, row):\n",
    "        ax.imshow(img.reshape((28, 28)), cmap='Greys_r')\n",
    "        ax.get_xaxis().set_visible(False)\n",
    "        ax.get_yaxis().set_visible(False)\n",
    "\n",
    "fig.tight_layout(pad=0.1)\n",
    "plt.show()"
   ]
  },
  {
   "cell_type": "code",
   "execution_count": 10,
   "metadata": {
    "collapsed": false
   },
   "outputs": [],
   "source": [
    "session.close()"
   ]
  }
 ],
 "metadata": {
  "kernelspec": {
   "display_name": "Python 3",
   "language": "python",
   "name": "python3"
  },
  "language_info": {
   "codemirror_mode": {
    "name": "ipython",
    "version": 3
   },
   "file_extension": ".py",
   "mimetype": "text/x-python",
   "name": "python",
   "nbconvert_exporter": "python",
   "pygments_lexer": "ipython3",
   "version": "3.5.3"
  }
 },
 "nbformat": 4,
 "nbformat_minor": 0
}
