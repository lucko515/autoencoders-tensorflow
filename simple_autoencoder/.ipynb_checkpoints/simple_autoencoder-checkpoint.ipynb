{
 "cells": [
  {
   "cell_type": "markdown",
   "metadata": {},
   "source": [
    "The dataset used in this notebook is MNIST dataset. You can download it by using built in TF functions."
   ]
  },
  {
   "cell_type": "code",
   "execution_count": 1,
   "metadata": {
    "collapsed": false
   },
   "outputs": [],
   "source": [
    "import tensorflow as tf\n",
    "from autoencoders_helper_functions import *\n",
    "from tensorflow.examples.tutorials.mnist import input_data\n",
    "import matplotlib.pyplot as plt\n",
    "%matplotlib inline"
   ]
  },
  {
   "cell_type": "code",
   "execution_count": 2,
   "metadata": {
    "collapsed": false
   },
   "outputs": [
    {
     "name": "stdout",
     "output_type": "stream",
     "text": [
      "Extracting MNIST_data\\train-images-idx3-ubyte.gz\n",
      "Extracting MNIST_data\\train-labels-idx1-ubyte.gz\n",
      "Extracting MNIST_data\\t10k-images-idx3-ubyte.gz\n",
      "Extracting MNIST_data\\t10k-labels-idx1-ubyte.gz\n"
     ]
    }
   ],
   "source": [
    "#extracting the dataset\n",
    "mnist_data = input_data.read_data_sets(\"MNIST_data\", one_hot=True)"
   ]
  },
  {
   "cell_type": "markdown",
   "metadata": {},
   "source": [
    "![](simple_auto.png)\n",
    "\n",
    "The Autoencoder is the unsupervised neural network. Every autoencoder has 2 parts - Encoder and Decoder. Before explaining these two parts let's see some tasks that could be solved with these cool structures.\n",
    "\n",
    "    1. Compressing data (exp. Images)\n",
    "    2. Denoising images\n",
    "    3. Generating more data (Variational autoencoder)\n",
    "    \n",
    "Ok, now that we mentioned some of the examples when Autoencoder is being used we can go to more tech stuff.\n",
    "\n",
    "The Autoencoder structure:\n",
    "    \n",
    "    1. Encoder - This is the first part of the pipeline. The autoencoder is there to minimize the sparsity of the data, as much as possible, into latent space. This latent space is just one of the hidden layers which is used as an input to Decoder.\n",
    "    2. Decoder -  the goal of this part is to reconstruct the original data from the compressed data .\n",
    "    \n",
    "In this notebook I am using the Simple Autoencoder which is built from only Dense layers - one for the Encoder and one for the Decoder."
   ]
  },
  {
   "cell_type": "markdown",
   "metadata": {},
   "source": [
    "### Step 1. Placeholders"
   ]
  },
  {
   "cell_type": "code",
   "execution_count": 3,
   "metadata": {
    "collapsed": true
   },
   "outputs": [],
   "source": [
    "inputs = tf.placeholder(tf.float32, [None, 784])\n",
    "targets = tf.placeholder(tf.float32, [None, 784])"
   ]
  },
  {
   "cell_type": "markdown",
   "metadata": {},
   "source": [
    "### Step 2. Define architecture of the Autoencoder"
   ]
  },
  {
   "cell_type": "code",
   "execution_count": 4,
   "metadata": {
    "collapsed": true
   },
   "outputs": [],
   "source": [
    "encoder = dense_custom(inputs, 784, 15) #Encoder output_size = [None, 15]\n",
    "decoder = dense_custom(encoder, 15, 784, activation=None) #Decoder output_size = [None, 784]\n",
    "\n",
    "decoded = tf.nn.sigmoid(decoder) #This is used for testing part"
   ]
  },
  {
   "cell_type": "markdown",
   "metadata": {},
   "source": [
    "### Step 3. Cost and Opt"
   ]
  },
  {
   "cell_type": "code",
   "execution_count": 16,
   "metadata": {
    "collapsed": true
   },
   "outputs": [],
   "source": [
    "cost = tf.reduce_mean(tf.nn.sigmoid_cross_entropy_with_logits(logits=decoder, labels=targets))\n",
    "optimizer = tf.train.AdamOptimizer(0.001).minimize(cost)"
   ]
  },
  {
   "cell_type": "markdown",
   "metadata": {},
   "source": [
    "## Training time"
   ]
  },
  {
   "cell_type": "code",
   "execution_count": 18,
   "metadata": {
    "collapsed": true
   },
   "outputs": [],
   "source": [
    "session = tf.Session()"
   ]
  },
  {
   "cell_type": "code",
   "execution_count": 19,
   "metadata": {
    "collapsed": true
   },
   "outputs": [],
   "source": [
    "session.run(tf.global_variables_initializer())"
   ]
  },
  {
   "cell_type": "code",
   "execution_count": 20,
   "metadata": {
    "collapsed": false
   },
   "outputs": [
    {
     "name": "stdout",
     "output_type": "stream",
     "text": [
      "Epoch: 0/200... Training loss: 0.3609\n",
      "Epoch: 20/200... Training loss: 0.1370\n",
      "Epoch: 40/200... Training loss: 0.1330\n",
      "Epoch: 60/200... Training loss: 0.1322\n",
      "Epoch: 80/200... Training loss: 0.1312\n",
      "Epoch: 100/200... Training loss: 0.1307\n",
      "Epoch: 120/200... Training loss: 0.1304\n",
      "Epoch: 140/200... Training loss: 0.1301\n",
      "Epoch: 160/200... Training loss: 0.1300\n",
      "Epoch: 180/200... Training loss: 0.1298\n"
     ]
    }
   ],
   "source": [
    "epochs = 200\n",
    "batch_size = 400\n",
    "for e in range(epochs):\n",
    "    cost_epo = []\n",
    "    for ii in range(mnist_data.train.num_examples//batch_size):\n",
    "        batch = mnist_data.train.next_batch(batch_size)\n",
    "        feed = {inputs: batch[0], targets:batch[0]}\n",
    "        batch_cost, _ = session.run([cost, optimizer], feed_dict=feed)\n",
    "        cost_epo.append(batch_cost)\n",
    "    if e % 20 == 0:\n",
    "        print(\"Epoch: {}/{}...\".format(e, epochs), \"Training loss: {:.4f}\".format(np.mean(cost_epo)))"
   ]
  },
  {
   "cell_type": "code",
   "execution_count": 21,
   "metadata": {
    "collapsed": false
   },
   "outputs": [
    {
     "data": {
      "image/png": "[encoded data removed]",
      "text/plain": [
       "<matplotlib.figure.Figure at 0x1670d1dec50>"
      ]
     },
     "metadata": {},
     "output_type": "display_data"
    }
   ],
   "source": [
    "fig, axes = plt.subplots(nrows=2, ncols=10, sharex=True, sharey=True, figsize=(20,4))\n",
    "in_imgs = mnist_data.test.images[:10]\n",
    "reconstructed, compressed = session.run([decoded, encoder], feed_dict={inputs: in_imgs})\n",
    "\n",
    "for images, row in zip([in_imgs, reconstructed], axes):\n",
    "    for img, ax in zip(images, row):\n",
    "        ax.imshow(img.reshape((28, 28)), cmap='Greys_r')\n",
    "        ax.get_xaxis().set_visible(False)\n",
    "        ax.get_yaxis().set_visible(False)\n",
    "\n",
    "fig.tight_layout(pad=0.1)\n",
    "plt.show()"
   ]
  },
  {
   "cell_type": "code",
   "execution_count": 22,
   "metadata": {
    "collapsed": false
   },
   "outputs": [],
   "source": [
    "session.close()"
   ]
  }
 ],
 "metadata": {
  "kernelspec": {
   "display_name": "Python 3",
   "language": "python",
   "name": "python3"
  },
  "language_info": {
   "codemirror_mode": {
    "name": "ipython",
    "version": 3
   },
   "file_extension": ".py",
   "mimetype": "text/x-python",
   "name": "python",
   "nbconvert_exporter": "python",
   "pygments_lexer": "ipython3",
   "version": "3.5.3"
  }
 },
 "nbformat": 4,
 "nbformat_minor": 0
}
