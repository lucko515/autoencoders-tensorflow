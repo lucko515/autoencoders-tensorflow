{
 "cells": [
  {
   "cell_type": "markdown",
   "metadata": {},
   "source": [
    "The dataset used in this notebook is MNIST dataset. You can download it by using built in TF functions."
   ]
  },
  {
   "cell_type": "code",
   "execution_count": 1,
   "metadata": {
    "collapsed": false
   },
   "outputs": [],
   "source": [
    "import tensorflow as tf\n",
    "from autoencoders_helper_functions import *\n",
    "from tensorflow.examples.tutorials.mnist import input_data\n",
    "import matplotlib.pyplot as plt\n",
    "%matplotlib inline"
   ]
  },
  {
   "cell_type": "code",
   "execution_count": 2,
   "metadata": {
    "collapsed": false
   },
   "outputs": [
    {
     "name": "stdout",
     "output_type": "stream",
     "text": [
      "Extracting MNIST_data\\train-images-idx3-ubyte.gz\n",
      "Extracting MNIST_data\\train-labels-idx1-ubyte.gz\n",
      "Extracting MNIST_data\\t10k-images-idx3-ubyte.gz\n",
      "Extracting MNIST_data\\t10k-labels-idx1-ubyte.gz\n"
     ]
    }
   ],
   "source": [
    "mnist_data = input_data.read_data_sets(\"MNIST_data\", one_hot=True)"
   ]
  },
  {
   "cell_type": "markdown",
   "metadata": {},
   "source": [
    "![](deep_af_autoencoder.png)\n",
    "\n",
    "The Autoencoder used in this notebook has the same architecture as one used in the Deep Convolutional Autoencoder project. The only difference is that we add noise to the input images."
   ]
  },
  {
   "cell_type": "markdown",
   "metadata": {},
   "source": [
    "### Step 1. Placeholders"
   ]
  },
  {
   "cell_type": "code",
   "execution_count": 3,
   "metadata": {
    "collapsed": true
   },
   "outputs": [],
   "source": [
    "inputs = tf.placeholder(tf.float32, [None, 28, 28, 1])\n",
    "targets = tf.placeholder(tf.float32, [None, 28, 28, 1])"
   ]
  },
  {
   "cell_type": "markdown",
   "metadata": {},
   "source": [
    "### Step 2. Define the architecture of the Autoencoder"
   ]
  },
  {
   "cell_type": "code",
   "execution_count": 4,
   "metadata": {
    "collapsed": false
   },
   "outputs": [],
   "source": [
    "encoder = convd2_custom(inputs, 3, 1, 16, max_pool=True)\n",
    "encoder = convd2_custom(encoder, 3, 16, 8, max_pool=True)\n",
    "encoder = convd2_custom(encoder, 3, 8, 8, max_pool=True)\n",
    "encoder = convd2_custom(encoder, 3, 8, 8, max_pool=True)\n",
    "\n",
    "decoder = tf.image.resize_nearest_neighbor(encoder, (7, 7))\n",
    "decoder = convd2_custom(decoder, 3, 8, 8, max_pool=False)\n",
    "decoder = tf.image.resize_nearest_neighbor(decoder, (14, 14))\n",
    "decoder = convd2_custom(decoder, 3, 8, 8, max_pool=False)\n",
    "decoder = tf.image.resize_nearest_neighbor(decoder, (28, 28))\n",
    "decoder = convd2_custom(decoder, 3, 8, 16, max_pool=False)\n",
    "\n",
    "logits = convd2_custom(decoder, 3, 16, 1, max_pool=False, activation=None)\n",
    "decoded = tf.nn.sigmoid(logits)"
   ]
  },
  {
   "cell_type": "markdown",
   "metadata": {},
   "source": [
    "### Step 3. Cost and Opt"
   ]
  },
  {
   "cell_type": "code",
   "execution_count": 5,
   "metadata": {
    "collapsed": false
   },
   "outputs": [],
   "source": [
    "cost = tf.reduce_mean(tf.nn.sigmoid_cross_entropy_with_logits(logits=logits, labels=targets))\n",
    "optimizer = tf.train.AdamOptimizer(0.001).minimize(cost)"
   ]
  },
  {
   "cell_type": "markdown",
   "metadata": {},
   "source": [
    "## Training time"
   ]
  },
  {
   "cell_type": "code",
   "execution_count": 6,
   "metadata": {
    "collapsed": true
   },
   "outputs": [],
   "source": [
    "session = tf.Session()"
   ]
  },
  {
   "cell_type": "code",
   "execution_count": 7,
   "metadata": {
    "collapsed": true
   },
   "outputs": [],
   "source": [
    "session.run(tf.global_variables_initializer())"
   ]
  },
  {
   "cell_type": "code",
   "execution_count": 8,
   "metadata": {
    "collapsed": false
   },
   "outputs": [
    {
     "name": "stdout",
     "output_type": "stream",
     "text": [
      "Epoch: 1/100... Training loss: 0.3271\n",
      "Epoch: 2/100... Training loss: 0.2392\n",
      "Epoch: 3/100... Training loss: 0.2171\n",
      "Epoch: 4/100... Training loss: 0.2082\n",
      "Epoch: 5/100... Training loss: 0.1998\n",
      "Epoch: 6/100... Training loss: 0.1906\n",
      "Epoch: 7/100... Training loss: 0.1821\n",
      "Epoch: 8/100... Training loss: 0.1757\n",
      "Epoch: 9/100... Training loss: 0.1714\n",
      "Epoch: 10/100... Training loss: 0.1685\n",
      "Epoch: 11/100... Training loss: 0.1663\n",
      "Epoch: 12/100... Training loss: 0.1644\n",
      "Epoch: 13/100... Training loss: 0.1630\n",
      "Epoch: 14/100... Training loss: 0.1613\n",
      "Epoch: 15/100... Training loss: 0.1602\n",
      "Epoch: 16/100... Training loss: 0.1591\n",
      "Epoch: 17/100... Training loss: 0.1582\n",
      "Epoch: 18/100... Training loss: 0.1571\n",
      "Epoch: 19/100... Training loss: 0.1562\n",
      "Epoch: 20/100... Training loss: 0.1555\n",
      "Epoch: 21/100... Training loss: 0.1545\n",
      "Epoch: 22/100... Training loss: 0.1539\n",
      "Epoch: 23/100... Training loss: 0.1531\n",
      "Epoch: 24/100... Training loss: 0.1526\n",
      "Epoch: 25/100... Training loss: 0.1520\n",
      "Epoch: 26/100... Training loss: 0.1516\n",
      "Epoch: 27/100... Training loss: 0.1511\n",
      "Epoch: 28/100... Training loss: 0.1508\n",
      "Epoch: 29/100... Training loss: 0.1499\n",
      "Epoch: 30/100... Training loss: 0.1500\n",
      "Epoch: 31/100... Training loss: 0.1495\n",
      "Epoch: 32/100... Training loss: 0.1492\n",
      "Epoch: 33/100... Training loss: 0.1489\n",
      "Epoch: 34/100... Training loss: 0.1485\n",
      "Epoch: 35/100... Training loss: 0.1483\n",
      "Epoch: 36/100... Training loss: 0.1480\n",
      "Epoch: 37/100... Training loss: 0.1477\n",
      "Epoch: 38/100... Training loss: 0.1474\n",
      "Epoch: 39/100... Training loss: 0.1472\n",
      "Epoch: 40/100... Training loss: 0.1469\n",
      "Epoch: 41/100... Training loss: 0.1465\n",
      "Epoch: 42/100... Training loss: 0.1464\n",
      "Epoch: 43/100... Training loss: 0.1465\n",
      "Epoch: 44/100... Training loss: 0.1461\n",
      "Epoch: 45/100... Training loss: 0.1458\n",
      "Epoch: 46/100... Training loss: 0.1456\n",
      "Epoch: 47/100... Training loss: 0.1456\n",
      "Epoch: 48/100... Training loss: 0.1453\n",
      "Epoch: 49/100... Training loss: 0.1451\n",
      "Epoch: 50/100... Training loss: 0.1451\n",
      "Epoch: 51/100... Training loss: 0.1447\n",
      "Epoch: 52/100... Training loss: 0.1448\n",
      "Epoch: 53/100... Training loss: 0.1445\n",
      "Epoch: 54/100... Training loss: 0.1444\n",
      "Epoch: 55/100... Training loss: 0.1441\n",
      "Epoch: 56/100... Training loss: 0.1439\n",
      "Epoch: 57/100... Training loss: 0.1440\n",
      "Epoch: 58/100... Training loss: 0.1438\n",
      "Epoch: 59/100... Training loss: 0.1433\n",
      "Epoch: 60/100... Training loss: 0.1435\n",
      "Epoch: 61/100... Training loss: 0.1433\n",
      "Epoch: 62/100... Training loss: 0.1430\n",
      "Epoch: 63/100... Training loss: 0.1431\n",
      "Epoch: 64/100... Training loss: 0.1429\n",
      "Epoch: 65/100... Training loss: 0.1426\n",
      "Epoch: 66/100... Training loss: 0.1427\n",
      "Epoch: 67/100... Training loss: 0.1427\n",
      "Epoch: 68/100... Training loss: 0.1425\n",
      "Epoch: 69/100... Training loss: 0.1423\n",
      "Epoch: 70/100... Training loss: 0.1422\n",
      "Epoch: 71/100... Training loss: 0.1420\n",
      "Epoch: 72/100... Training loss: 0.1416\n",
      "Epoch: 73/100... Training loss: 0.1417\n",
      "Epoch: 74/100... Training loss: 0.1415\n",
      "Epoch: 75/100... Training loss: 0.1415\n",
      "Epoch: 76/100... Training loss: 0.1414\n",
      "Epoch: 77/100... Training loss: 0.1411\n",
      "Epoch: 78/100... Training loss: 0.1413\n",
      "Epoch: 79/100... Training loss: 0.1409\n",
      "Epoch: 80/100... Training loss: 0.1408\n",
      "Epoch: 81/100... Training loss: 0.1408\n",
      "Epoch: 82/100... Training loss: 0.1406\n",
      "Epoch: 83/100... Training loss: 0.1405\n",
      "Epoch: 84/100... Training loss: 0.1405\n",
      "Epoch: 85/100... Training loss: 0.1403\n",
      "Epoch: 86/100... Training loss: 0.1403\n",
      "Epoch: 87/100... Training loss: 0.1400\n",
      "Epoch: 88/100... Training loss: 0.1400\n",
      "Epoch: 89/100... Training loss: 0.1400\n",
      "Epoch: 90/100... Training loss: 0.1399\n",
      "Epoch: 91/100... Training loss: 0.1398\n",
      "Epoch: 92/100... Training loss: 0.1399\n",
      "Epoch: 93/100... Training loss: 0.1398\n",
      "Epoch: 94/100... Training loss: 0.1395\n",
      "Epoch: 95/100... Training loss: 0.1393\n",
      "Epoch: 96/100... Training loss: 0.1397\n",
      "Epoch: 97/100... Training loss: 0.1392\n",
      "Epoch: 98/100... Training loss: 0.1395\n",
      "Epoch: 99/100... Training loss: 0.1390\n",
      "Epoch: 100/100... Training loss: 0.1393\n"
     ]
    }
   ],
   "source": [
    "epochs = 100\n",
    "batch_size = 200\n",
    "noise_factor = 0.5\n",
    "\n",
    "for e in range(epochs):\n",
    "    cost_epoch = []\n",
    "    for ii in range(mnist_data.train.num_examples//batch_size):\n",
    "        batch = mnist_data.train.next_batch(batch_size)\n",
    "        \n",
    "        imgs = batch[0].reshape((-1, 28, 28, 1))\n",
    "        \n",
    "       \n",
    "        noisy_imgs = imgs + noise_factor * np.random.randn(*imgs.shape)\n",
    "        noisy_imgs = np.clip(noisy_imgs, 0., 1.)\n",
    "        \n",
    "        batch_cost, _ = session.run([cost, optimizer], feed_dict={inputs: noisy_imgs,\n",
    "                                                         targets: imgs})\n",
    "        cost_epoch.append(batch_cost)\n",
    "    print(\"Epoch: {}/{}...\".format(e+1, epochs), \"Training loss: {:.4f}\".format(np.mean(cost_epoch)))"
   ]
  },
  {
   "cell_type": "code",
   "execution_count": 9,
   "metadata": {
    "collapsed": false
   },
   "outputs": [
    {
     "data": {
      "image/png": "[encoded data removed]",
      "text/plain": [
       "<matplotlib.figure.Figure at 0x209004e8a90>"
      ]
     },
     "metadata": {},
     "output_type": "display_data"
    }
   ],
   "source": [
    "fig, axes = plt.subplots(nrows=2, ncols=10, sharex=True, sharey=True, figsize=(20,4))\n",
    "imgs = mnist_data.test.images[:10]\n",
    "noisy_imgs = imgs + noise_factor * np.random.randn(*imgs.shape)\n",
    "noisy_imgs = np.clip(noisy_imgs, 0., 1.)\n",
    "\n",
    "reconstructed = session.run(decoded, feed_dict={inputs: noisy_imgs.reshape((10, 28, 28, 1))})\n",
    "\n",
    "for images, row in zip([noisy_imgs, reconstructed], axes):\n",
    "    for img, ax in zip(images, row):\n",
    "        ax.imshow(img.reshape((28, 28)), cmap='Greys_r')\n",
    "        ax.get_xaxis().set_visible(False)\n",
    "        ax.get_yaxis().set_visible(False)\n",
    "\n",
    "fig.tight_layout(pad=0.1)"
   ]
  },
  {
   "cell_type": "code",
   "execution_count": 10,
   "metadata": {
    "collapsed": false
   },
   "outputs": [],
   "source": [
    "session.close()"
   ]
  }
 ],
 "metadata": {
  "kernelspec": {
   "display_name": "Python 3",
   "language": "python",
   "name": "python3"
  },
  "language_info": {
   "codemirror_mode": {
    "name": "ipython",
    "version": 3
   },
   "file_extension": ".py",
   "mimetype": "text/x-python",
   "name": "python",
   "nbconvert_exporter": "python",
   "pygments_lexer": "ipython3",
   "version": "3.5.3"
  }
 },
 "nbformat": 4,
 "nbformat_minor": 0
}
